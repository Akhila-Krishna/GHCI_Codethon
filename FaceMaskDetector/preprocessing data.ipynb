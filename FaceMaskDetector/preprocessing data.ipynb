{
 "cells": [
  {
   "cell_type": "code",
   "execution_count": 5,
   "metadata": {},
   "outputs": [
    {
     "name": "stdout",
     "output_type": "stream",
     "text": [
      "{'without mask': 0, 'with mask': 1}\n",
      "['without mask', 'with mask']\n",
      "[0, 1]\n"
     ]
    }
   ],
   "source": [
    "import cv2,os\n",
    "\n",
    "#loading the path of the folder named dataset where the images are stored\n",
    "data_path='dataset'\n",
    "\n",
    "#load the foldernames inside the dataset folder,ie,'without mask' and 'with mask'\n",
    "categories=os.listdir(data_path)\n",
    "\n",
    "#give labels to the categories as 0 and 1\n",
    "labels=[i for i in range(len(categories))]\n",
    "\n",
    "label_dict=dict(zip(categories,labels)) #empty dictionary\n",
    "\n",
    "print(label_dict)\n",
    "print(categories)\n",
    "print(labels)"
   ]
  },
  {
   "cell_type": "code",
   "execution_count": 9,
   "metadata": {},
   "outputs": [],
   "source": [
    "#specify the size of image as 100x100\n",
    "img_size=100\n",
    "\n",
    "#two empty lists to store the images and labels\n",
    "data=[]\n",
    "target=[]\n",
    "\n",
    "\n",
    "for category in categories:\n",
    "    folder_path=os.path.join(data_path,category)\n",
    "    img_names=os.listdir(folder_path)\n",
    "     \n",
    "    #load all the images in each category\n",
    "    for img_name in img_names:\n",
    "        img_path=os.path.join(folder_path,img_name)\n",
    "        #load all the images as numpy array\n",
    "        img=cv2.imread(img_path)\n",
    "\n",
    "        try:\n",
    "            #Coverting the image into gray scale\n",
    "            gray=cv2.cvtColor(img,cv2.COLOR_BGR2GRAY)           \n",
    "            #resizing the gray scale into 100x100\n",
    "            resized=cv2.resize(gray,(img_size,img_size))\n",
    "            #appending the image and the label into the lists\n",
    "            data.append(resized)\n",
    "            target.append(label_dict[category])\n",
    "            \n",
    "\n",
    "        #if any exception rasied, the exception will be printed here. And pass to the next image\n",
    "        except Exception as e:\n",
    "            print('Exception:',e)\n",
    "           "
   ]
  },
  {
   "cell_type": "code",
   "execution_count": 10,
   "metadata": {},
   "outputs": [],
   "source": [
    "import numpy as np\n",
    "\n",
    "#normalizing the images by dividing it by 255 to convert the pixel range to 0 and 1.\n",
    "data=np.array(data)/255.0\n",
    "#reshape it into a 4D array as CNN's are 4D arrya\n",
    "data=np.reshape(data,(data.shape[0],img_size,img_size,1))\n",
    "#convert targets into numpy array\n",
    "target=np.array(target)\n",
    "\n",
    "\n",
    "\n",
    "from keras.utils import np_utils\n",
    "\n",
    "#covert the numpy array into categorical representation\n",
    "new_target=np_utils.to_categorical(target)"
   ]
  },
  {
   "cell_type": "code",
   "execution_count": 11,
   "metadata": {},
   "outputs": [],
   "source": [
    "#data contains images and target has labels\n",
    "np.save('data',data)\n",
    "np.save('target',new_target)"
   ]
  },
  {
   "cell_type": "code",
   "execution_count": null,
   "metadata": {},
   "outputs": [],
   "source": []
  }
 ],
 "metadata": {
  "kernelspec": {
   "display_name": "Python 3",
   "language": "python",
   "name": "python3"
  },
  "language_info": {
   "codemirror_mode": {
    "name": "ipython",
    "version": 3
   },
   "file_extension": ".py",
   "mimetype": "text/x-python",
   "name": "python",
   "nbconvert_exporter": "python",
   "pygments_lexer": "ipython3",
   "version": "3.8.3"
  }
 },
 "nbformat": 4,
 "nbformat_minor": 4
}
